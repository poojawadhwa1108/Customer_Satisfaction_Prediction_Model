{
 "cells": [
  {
   "cell_type": "code",
   "execution_count": 1,
   "metadata": {
    "scrolled": true
   },
   "outputs": [
    {
     "name": "stderr",
     "output_type": "stream",
     "text": [
      "C:\\Users\\Oishee Bhattacharyya\\Anaconda3\\lib\\site-packages\\sklearn\\utils\\deprecation.py:143: FutureWarning: The sklearn.metrics.classification module is  deprecated in version 0.22 and will be removed in version 0.24. The corresponding classes / functions should instead be imported from sklearn.metrics. Anything that cannot be imported from sklearn.metrics is now part of the private API.\n",
      "  warnings.warn(message, FutureWarning)\n"
     ]
    }
   ],
   "source": [
    "from sklearn import tree, ensemble, model_selection, metrics\n",
    "from sklearn import svm\n",
    "from sklearn import pipeline\n",
    "from sklearn import neighbors\n",
    "from sklearn import linear_model\n",
    "from prettytable import PrettyTable\n",
    "from yellowbrick.model_selection import FeatureImportances\n",
    "from sklearn.preprocessing import label_binarize\n",
    "from sklearn.inspection import permutation_importance\n",
    "import matplotlib.pyplot as plt\n",
    "from scipy import interp\n",
    "from itertools import cycle\n",
    "import seaborn as sns\n",
    "import pandas as pd\n",
    "import numpy as np\n",
    "import xgboost as xgb\n",
    "import itertools\n",
    "import warnings\n",
    "warnings.filterwarnings('ignore')"
   ]
  },
  {
   "cell_type": "code",
   "execution_count": 2,
   "metadata": {},
   "outputs": [
    {
     "name": "stdout",
     "output_type": "stream",
     "text": [
      "(57636, 54)\n"
     ]
    }
   ],
   "source": [
    "import pandas as pd\n",
    "import numpy as np\n",
    "\n",
    "import warnings\n",
    "warnings.filterwarnings('ignore')\n",
    "\n",
    "df = pd.read_csv(\"listing_data_clean_final_v2_extra.csv\")\n",
    "\n",
    "print(df.shape)"
   ]
  },
  {
   "cell_type": "markdown",
   "metadata": {},
   "source": [
    "Data Cleaning"
   ]
  },
  {
   "cell_type": "code",
   "execution_count": 3,
   "metadata": {},
   "outputs": [
    {
     "data": {
      "text/plain": [
       "2    50118\n",
       "1     5434\n",
       "0     2084\n",
       "Name: rating_class, dtype: int64"
      ]
     },
     "execution_count": 3,
     "metadata": {},
     "output_type": "execute_result"
    }
   ],
   "source": [
    "df['rating_class'].value_counts()"
   ]
  },
  {
   "cell_type": "code",
   "execution_count": 4,
   "metadata": {},
   "outputs": [],
   "source": [
    "df=df.drop(['host_total_listings_count','number_of_reviews','reviews_per_month','host_is_superhost'],axis=1)"
   ]
  },
  {
   "cell_type": "code",
   "execution_count": 5,
   "metadata": {},
   "outputs": [],
   "source": [
    "bed_type=pd.get_dummies(df['bed_type'],prefix='bed_type',drop_first=True)\n",
    "df=pd.concat([df,bed_type],axis=1)\n",
    "cancellation_policy=pd.get_dummies(df['cancellation_policy'],prefix='cancellation_policy',drop_first=True)\n",
    "df=pd.concat([df,cancellation_policy],axis=1)\n",
    "region=pd.get_dummies(df['region'],prefix='region',drop_first=True)\n",
    "df=pd.concat([df,region],axis=1)\n",
    "property_room_type=pd.get_dummies(df['property_room_type'],prefix='property_room_type',drop_first=True)\n",
    "df=pd.concat([df,property_room_type],axis=1)"
   ]
  },
  {
   "cell_type": "code",
   "execution_count": 6,
   "metadata": {},
   "outputs": [],
   "source": [
    "df=df.drop(['property_type','room_type','bed_type','cancellation_policy','region','property_room_type','latitude',\n",
    "            'longitude','property_room_type_Others_Entire home/apt', 'property_room_type_Others_Hotel room',\n",
    "            'property_room_type_Others_Private room','property_room_type_Others_Shared room'],axis=1)"
   ]
  },
  {
   "cell_type": "markdown",
   "metadata": {},
   "source": [
    "Stacking Ensemble"
   ]
  },
  {
   "cell_type": "code",
   "execution_count": 7,
   "metadata": {},
   "outputs": [],
   "source": [
    "x = df[['host_response_rate', 'host_acceptance_rate', 'host_has_profile_pic',\n",
    "       'host_identity_verified', 'is_location_exact', 'accommodates',\n",
    "       'bathrooms', 'bedrooms', 'beds', 'price', 'security_deposit',\n",
    "       'cleaning_fee', 'guests_included', 'extra_people', 'minimum_nights',\n",
    "       'maximum_nights', 'number_of_reviews_ltm', 'instant_bookable',\n",
    "       'require_guest_profile_picture', 'require_guest_phone_verification',\n",
    "       'calculated_host_listings_count_entire_homes',\n",
    "       'calculated_host_listings_count_private_rooms',\n",
    "       'calculated_host_listings_count_shared_rooms', 'host_duration_days',\n",
    "       'listing_duration_days', 'occupancy_rate', 'crime_rate', 'hangers',\n",
    "       'washer', 'tv', 'detector', 'kitchen', 'heating', 'essentials', 'iron',\n",
    "       'wifi', 'dryer', 'min_dist_subway', 'min_dist_park',\n",
    "       'min_dist_attraction', 'recency', 'bed_type_Couch',\n",
    "       'bed_type_Futon', 'bed_type_Pull-out Sofa', 'bed_type_Real Bed',\n",
    "       'cancellation_policy_moderate', 'cancellation_policy_strict',\n",
    "       'cancellation_policy_strict_14_with_grace_period',\n",
    "       'cancellation_policy_super_strict_30',\n",
    "       'cancellation_policy_super_strict_60', 'region_East', 'region_North',\n",
    "       'region_South', 'region_West',\n",
    "       'property_room_type_Apartment_Hotel room',\n",
    "       'property_room_type_Apartment_Private room',\n",
    "       'property_room_type_Apartment_Shared room',\n",
    "       'property_room_type_Bungalow_Entire home/apt',\n",
    "       'property_room_type_Bungalow_Private room',\n",
    "       'property_room_type_Bungalow_Shared room',\n",
    "       'property_room_type_Guesthouse_Entire home/apt',\n",
    "       'property_room_type_Guesthouse_Hotel room',\n",
    "       'property_room_type_Guesthouse_Private room',\n",
    "       'property_room_type_Guesthouse_Shared room',\n",
    "       'property_room_type_Hotel_Entire home/apt',\n",
    "       'property_room_type_Hotel_Hotel room',\n",
    "       'property_room_type_Hotel_Private room',\n",
    "       'property_room_type_Hotel_Shared room']]\n",
    "y = df['rating_class']\n",
    "x_train, x_test, y_train, y_test = model_selection.train_test_split(x, y, test_size = 0.2, random_state = 610)"
   ]
  },
  {
   "cell_type": "code",
   "execution_count": 8,
   "metadata": {},
   "outputs": [],
   "source": [
    "parameters ={\n",
    "    'svm__penalty':['l1', 'l2'],\n",
    "    'svm__loss':['hinge', 'squared_hinge'],\n",
    "    'svm__C':[0.001,0.01,0.1,1,10],\n",
    "    'bagging__base_estimator__criterion':['gini','entropy'],\n",
    "    'bagging__base_estimator__max_depth':[5,10],\n",
    "    'bagging__base_estimator__min_samples_split':[5,10],\n",
    "    'bagging__max_samples':[0.1,0.5,1],\n",
    "    'bagging__max_features':[0.1,0.5,1],\n",
    "    'rf__criterion':['gini','entropy'],\n",
    "    'rf__max_depth':[5,10],\n",
    "    'rf__min_samples_split':[5,10],\n",
    "    'GB__learning_rate':[0.01,0.05,0.1,0.5,1],\n",
    "    'GB__min_samples_split':[5,10],\n",
    "    'GB__max_depth':[5,10],\n",
    "    'EXtrees__criterion':['gini','entropy'],\n",
    "    'EXtrees__max_depth':[5,10],\n",
    "    'EXtrees__max_samples':[0.1,0.5,1],\n",
    "    'EXtrees__max_features':[0.1,0.5,1],\n",
    "    'final_estimator__booster':['gbtree'],\n",
    "    'final_estimator__learning_rate':[0.01,0.05,0.1,0.3,0.5],\n",
    "    'final_estimator__max_depth':[5,10],\n",
    "    'final_estimator__reg_alpha':[0,0.01,0.1,1],\n",
    "    'final_estimator__reg_lambda':[0,0.01,0.1,1],\n",
    "}\n",
    "\n",
    "estimators=[('svm',svm.LinearSVC(random_state=42)),\n",
    "            ('bagging',ensemble.BaggingClassifier(tree.DecisionTreeClassifier())),\n",
    "            ('rf', ensemble.RandomForestClassifier(n_estimators = 50)),\n",
    "            ('GB', ensemble.GradientBoostingClassifier(n_estimators = 50)),\n",
    "            ('EXtrees', ensemble.ExtraTreesClassifier(n_estimators = 50))\n",
    "           ]\n",
    "\n",
    "sclf=ensemble.StackingClassifier(estimators=estimators, final_estimator=xgb.XGBClassifier(n_estimators = 50))"
   ]
  },
  {
   "cell_type": "code",
   "execution_count": 9,
   "metadata": {},
   "outputs": [],
   "source": [
    "clf = model_selection.RandomizedSearchCV(sclf, param_distributions=parameters, cv=model_selection.StratifiedKFold(n_splits = 10, shuffle = True, random_state = 2019))"
   ]
  },
  {
   "cell_type": "code",
   "execution_count": 10,
   "metadata": {
    "scrolled": false
   },
   "outputs": [
    {
     "data": {
      "text/plain": [
       "RandomizedSearchCV(cv=StratifiedKFold(n_splits=10, random_state=2019, shuffle=True),\n",
       "                   estimator=StackingClassifier(estimators=[('svm',\n",
       "                                                             LinearSVC(random_state=42)),\n",
       "                                                            ('bagging',\n",
       "                                                             BaggingClassifier(base_estimator=DecisionTreeClassifier())),\n",
       "                                                            ('rf',\n",
       "                                                             RandomForestClassifier(n_estimators=50)),\n",
       "                                                            ('GB',\n",
       "                                                             GradientBoostingClassifier(n_estimators=50)),\n",
       "                                                            ('EXtrees',\n",
       "                                                             ExtraTreesCl...\n",
       "                                        'final_estimator__learning_rate': [0.01,\n",
       "                                                                           0.05,\n",
       "                                                                           0.1,\n",
       "                                                                           0.3,\n",
       "                                                                           0.5],\n",
       "                                        'final_estimator__max_depth': [5, 10],\n",
       "                                        'final_estimator__reg_alpha': [0, 0.01,\n",
       "                                                                       0.1, 1],\n",
       "                                        'final_estimator__reg_lambda': [0, 0.01,\n",
       "                                                                        0.1,\n",
       "                                                                        1],\n",
       "                                        'rf__criterion': ['gini', 'entropy'],\n",
       "                                        'rf__max_depth': [5, 10],\n",
       "                                        'rf__min_samples_split': [5, 10],\n",
       "                                        'svm__C': [0.001, 0.01, 0.1, 1, 10],\n",
       "                                        'svm__loss': ['hinge', 'squared_hinge'],\n",
       "                                        'svm__penalty': ['l1', 'l2']})"
      ]
     },
     "execution_count": 10,
     "metadata": {},
     "output_type": "execute_result"
    }
   ],
   "source": [
    "clf.fit(x_train, y_train)"
   ]
  },
  {
   "cell_type": "code",
   "execution_count": 11,
   "metadata": {},
   "outputs": [
    {
     "name": "stdout",
     "output_type": "stream",
     "text": [
      "0.8721262932975046\n",
      "{'svm__penalty': 'l2', 'svm__loss': 'hinge', 'svm__C': 10, 'rf__min_samples_split': 10, 'rf__max_depth': 5, 'rf__criterion': 'gini', 'final_estimator__reg_lambda': 0.1, 'final_estimator__reg_alpha': 0.1, 'final_estimator__max_depth': 5, 'final_estimator__learning_rate': 0.1, 'final_estimator__booster': 'gbtree', 'bagging__max_samples': 0.1, 'bagging__max_features': 0.1, 'bagging__base_estimator__min_samples_split': 10, 'bagging__base_estimator__max_depth': 5, 'bagging__base_estimator__criterion': 'entropy', 'GB__min_samples_split': 5, 'GB__max_depth': 10, 'GB__learning_rate': 0.05, 'EXtrees__max_samples': 0.1, 'EXtrees__max_features': 0.5, 'EXtrees__max_depth': 5, 'EXtrees__criterion': 'entropy'}\n"
     ]
    }
   ],
   "source": [
    "print(clf.best_score_)\n",
    "print(clf.best_params_)"
   ]
  },
  {
   "cell_type": "code",
   "execution_count": 12,
   "metadata": {},
   "outputs": [],
   "source": [
    "estimators=[('svm',svm.LinearSVC(penalty='l2', loss= 'hinge', C=10,random_state=42)),\n",
    "            ('bagging',ensemble.BaggingClassifier(tree.DecisionTreeClassifier(min_samples_split=10, max_depth=5, \n",
    "                                                                              criterion='entropy'),max_samples= 0.1, \n",
    "                                                  max_features=0.1)),\n",
    "            ('rf', ensemble.RandomForestClassifier(n_estimators = 50,min_samples_split=10,max_depth=5, criterion='gini')),\n",
    "            ('GB', ensemble.GradientBoostingClassifier(n_estimators = 50,min_samples_split= 5, max_depth=10, learning_rate= 0.05)),\n",
    "            ('EXtrees', ensemble.ExtraTreesClassifier(n_estimators = 50,max_samples=0.1, max_features=0.5, max_depth= 5, criterion='entropy'))\n",
    "           ]\n",
    "\n",
    "sclf=ensemble.StackingClassifier(estimators=estimators, final_estimator=xgb.XGBClassifier(n_estimators = 50,reg_lambda=0.1,\n",
    "                                                                                          reg_alpha=0.1,max_depth=5, \n",
    "                                                                                          learning_rate= 0.1, \n",
    "                                                                                          booster='gbtree'))"
   ]
  },
  {
   "cell_type": "code",
   "execution_count": 13,
   "metadata": {},
   "outputs": [
    {
     "data": {
      "text/plain": [
       "StackingClassifier(estimators=[('svm',\n",
       "                                LinearSVC(C=10, loss='hinge', random_state=42)),\n",
       "                               ('bagging',\n",
       "                                BaggingClassifier(base_estimator=DecisionTreeClassifier(criterion='entropy',\n",
       "                                                                                        max_depth=5,\n",
       "                                                                                        min_samples_split=10),\n",
       "                                                  max_features=0.1,\n",
       "                                                  max_samples=0.1)),\n",
       "                               ('rf',\n",
       "                                RandomForestClassifier(max_depth=5,\n",
       "                                                       min_samples_split=10,\n",
       "                                                       n_estimators=50)),\n",
       "                               ('GB',\n",
       "                                GradientBoostingClassifi...\n",
       "                                                 importance_type='gain',\n",
       "                                                 interaction_constraints=None,\n",
       "                                                 learning_rate=0.1,\n",
       "                                                 max_delta_step=None,\n",
       "                                                 max_depth=5,\n",
       "                                                 min_child_weight=None,\n",
       "                                                 missing=nan,\n",
       "                                                 monotone_constraints=None,\n",
       "                                                 n_estimators=50, n_jobs=None,\n",
       "                                                 num_parallel_tree=None,\n",
       "                                                 random_state=None,\n",
       "                                                 reg_alpha=0.1, reg_lambda=0.1,\n",
       "                                                 scale_pos_weight=None,\n",
       "                                                 subsample=None,\n",
       "                                                 tree_method=None,\n",
       "                                                 validate_parameters=None,\n",
       "                                                 verbosity=None))"
      ]
     },
     "execution_count": 13,
     "metadata": {},
     "output_type": "execute_result"
    }
   ],
   "source": [
    "sclf.fit(x_train,y_train)"
   ]
  },
  {
   "cell_type": "code",
   "execution_count": 14,
   "metadata": {
    "scrolled": true
   },
   "outputs": [],
   "source": [
    "y_pred = sclf.predict(x_test)\n",
    "y_pred_prob = sclf.predict_proba(x_test)"
   ]
  },
  {
   "cell_type": "code",
   "execution_count": 15,
   "metadata": {},
   "outputs": [
    {
     "name": "stdout",
     "output_type": "stream",
     "text": [
      "The classification report of Stacking classifier:\n",
      "               precision    recall  f1-score   support\n",
      "\n",
      "           0       0.30      0.01      0.01       433\n",
      "           1       0.51      0.08      0.14      1086\n",
      "           2       0.88      0.99      0.93     10009\n",
      "\n",
      "    accuracy                           0.87     11528\n",
      "   macro avg       0.56      0.36      0.36     11528\n",
      "weighted avg       0.82      0.87      0.82     11528\n",
      "\n"
     ]
    }
   ],
   "source": [
    "print('The classification report of Stacking classifier:\\n {}'\n",
    "      .format(metrics.classification_report(y_test, y_pred)))"
   ]
  },
  {
   "cell_type": "code",
   "execution_count": 16,
   "metadata": {},
   "outputs": [
    {
     "data": {
      "text/plain": [
       "0.8691880638445524"
      ]
     },
     "execution_count": 16,
     "metadata": {},
     "output_type": "execute_result"
    }
   ],
   "source": [
    "metrics.accuracy_score(y_test, y_pred)"
   ]
  },
  {
   "cell_type": "markdown",
   "metadata": {},
   "source": [
    "ROC curve"
   ]
  },
  {
   "cell_type": "code",
   "execution_count": 17,
   "metadata": {},
   "outputs": [],
   "source": [
    "y_test = label_binarize(y_test, classes=[0,1,2])\n",
    "n_classes = y_test.shape[1]"
   ]
  },
  {
   "cell_type": "code",
   "execution_count": 18,
   "metadata": {},
   "outputs": [],
   "source": [
    "y_score = sclf.predict_proba(x_test)"
   ]
  },
  {
   "cell_type": "code",
   "execution_count": 19,
   "metadata": {},
   "outputs": [],
   "source": [
    "fpr = dict()\n",
    "tpr = dict()\n",
    "roc_auc = dict()\n",
    "for i in range(n_classes):\n",
    "    fpr[i], tpr[i], _ = metrics.roc_curve(y_test[:, i], y_score[:, i])\n",
    "    roc_auc[i] = metrics.auc(fpr[i], tpr[i])"
   ]
  },
  {
   "cell_type": "code",
   "execution_count": 20,
   "metadata": {},
   "outputs": [],
   "source": [
    "fpr[\"micro\"], tpr[\"micro\"], _ = metrics.roc_curve(y_test.ravel(), y_score.ravel())\n",
    "roc_auc[\"micro\"] = metrics.auc(fpr[\"micro\"], tpr[\"micro\"])"
   ]
  },
  {
   "cell_type": "code",
   "execution_count": 21,
   "metadata": {},
   "outputs": [
    {
     "data": {
      "image/png": "[encoded data removed]",
      "text/plain": [
       "<Figure size 432x288 with 1 Axes>"
      ]
     },
     "metadata": {
      "needs_background": "light"
     },
     "output_type": "display_data"
    }
   ],
   "source": [
    "lw = 2\n",
    "all_fpr = np.unique(np.concatenate([fpr[i] for i in range(n_classes)]))\n",
    "\n",
    "mean_tpr = np.zeros_like(all_fpr)\n",
    "for i in range(n_classes):\n",
    "    mean_tpr += interp(all_fpr, fpr[i], tpr[i])\n",
    "\n",
    "mean_tpr /= n_classes\n",
    "\n",
    "fpr[\"macro\"] = all_fpr\n",
    "tpr[\"macro\"] = mean_tpr\n",
    "roc_auc[\"macro\"] = metrics.auc(fpr[\"macro\"], tpr[\"macro\"])\n",
    "\n",
    "plt.figure()\n",
    "plt.plot(fpr[\"micro\"], tpr[\"micro\"],\n",
    "         label='micro-average ROC curve (area = {0:0.4f})'\n",
    "               ''.format(roc_auc[\"micro\"]),\n",
    "         color='deeppink', linestyle=':', linewidth=4)\n",
    "\n",
    "plt.plot(fpr[\"macro\"], tpr[\"macro\"],\n",
    "         label='macro-average ROC curve (area = {0:0.4f})'\n",
    "               ''.format(roc_auc[\"macro\"]),\n",
    "         color='navy', linestyle=':', linewidth=4)\n",
    "\n",
    "colors = cycle(['aqua', 'darkorange', 'cornflowerblue'])\n",
    "for i, color in zip(range(n_classes), colors):\n",
    "    plt.plot(fpr[i], tpr[i], color=color, lw=lw,\n",
    "             label='ROC curve of class {0} (area = {1:0.4f})'\n",
    "             ''.format(i, roc_auc[i]))\n",
    "\n",
    "plt.plot([0, 1], [0, 1], 'k--', lw=lw)\n",
    "plt.xlim([0.0, 1.0])\n",
    "plt.ylim([0.0, 1.05])\n",
    "plt.xlabel('False Positive Rate')\n",
    "plt.ylabel('True Positive Rate')\n",
    "plt.title('Some extension of Receiver operating characteristic to multi-class')\n",
    "plt.legend(loc=\"lower right\")\n",
    "plt.show()"
   ]
  },
  {
   "cell_type": "markdown",
   "metadata": {},
   "source": [
    "Feature Importance"
   ]
  },
  {
   "cell_type": "code",
   "execution_count": 22,
   "metadata": {
    "scrolled": true
   },
   "outputs": [],
   "source": [
    "# perform permutation importance\n",
    "results = permutation_importance(sclf,x_train, y_train, scoring='accuracy')\n",
    "# get importance\n",
    "importance = results.importances_mean"
   ]
  },
  {
   "cell_type": "code",
   "execution_count": 23,
   "metadata": {},
   "outputs": [],
   "source": [
    "importancedf = pd.DataFrame(importance)\n",
    "importancedf.columns=['Score']\n",
    "x_col=pd.DataFrame(x.columns)\n",
    "x_col.columns=['Labels']\n",
    "feature_importance = pd.concat([importancedf,x_col],axis=1)\n",
    "feature_importance.sort_values('Score',ascending = False, inplace = True)\n",
    "feature_importancetop10=feature_importance.head(10)"
   ]
  },
  {
   "cell_type": "code",
   "execution_count": 24,
   "metadata": {},
   "outputs": [
    {
     "data": {
      "text/plain": [
       "(array([0, 1, 2, 3, 4, 5, 6, 7, 8, 9]), <a list of 10 Text xticklabel objects>)"
      ]
     },
     "execution_count": 24,
     "metadata": {},
     "output_type": "execute_result"
    },
    {
     "data": {
      "image/png": "[encoded data removed]",
      "text/plain": [
       "<Figure size 432x288 with 1 Axes>"
      ]
     },
     "metadata": {
      "needs_background": "light"
     },
     "output_type": "display_data"
    }
   ],
   "source": [
    "plot1 = sns.barplot(data = feature_importancetop10, x = 'Labels',y = 'Score',\n",
    "                    order = feature_importancetop10['Labels'], color='lightskyblue').set_title('Top 10 Features')\n",
    "plt.xticks(rotation=90)"
   ]
  },
  {
   "cell_type": "code",
   "execution_count": 25,
   "metadata": {},
   "outputs": [
    {
     "name": "stdout",
     "output_type": "stream",
     "text": [
      "20     calculated_host_listings_count_entire_homes\n",
      "0                               host_response_rate\n",
      "16                           number_of_reviews_ltm\n",
      "23                              host_duration_days\n",
      "24                           listing_duration_days\n",
      "21    calculated_host_listings_count_private_rooms\n",
      "39                             min_dist_attraction\n",
      "9                                            price\n",
      "40                                         recency\n",
      "10                                security_deposit\n",
      "Name: Labels, dtype: object\n"
     ]
    }
   ],
   "source": [
    "print(feature_importancetop10['Labels'])"
   ]
  }
 ],
 "metadata": {
  "kernelspec": {
   "display_name": "Python 3",
   "language": "python",
   "name": "python3"
  },
  "language_info": {
   "codemirror_mode": {
    "name": "ipython",
    "version": 3
   },
   "file_extension": ".py",
   "mimetype": "text/x-python",
   "name": "python",
   "nbconvert_exporter": "python",
   "pygments_lexer": "ipython3",
   "version": "3.7.4"
  }
 },
 "nbformat": 4,
 "nbformat_minor": 2
}
